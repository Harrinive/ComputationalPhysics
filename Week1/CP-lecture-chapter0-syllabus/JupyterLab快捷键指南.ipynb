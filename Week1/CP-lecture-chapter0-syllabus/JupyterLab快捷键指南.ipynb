{
 "cells": [
  {
   "cell_type": "markdown",
   "metadata": {},
   "source": [
    "Jupyter Notebook/Jupyter Lab有两种键盘输入模式。\n",
    "1. 编辑模式，允许你往单元中键入代码或文本；这时的单元框线为绿色/蓝色。\n",
    "2. 命令模式，键盘输入运行程序命令；这时的单元框线是灰色。  "
   ]
  },
  {
   "cell_type": "markdown",
   "metadata": {},
   "source": [
    "**命令模式 (`Esc`切换命令模式与编辑模式)**  \n",
    "\n",
    "Enter : 转入编辑模式\n",
    "\n",
    "`Shift-Enter` : 运行本单元，选中下个单元  \n",
    "`Ctrl-Enter` : 运行本单元  \n",
    "`Alt-Enter` : 运行本单元，在其下插入新单元  \n",
    "\n",
    "`Y` : 单元转入`代`码状态  \n",
    "`M` : 单元转入mar`k`down状态  \n",
    "`R` : 单元转入raw状`态`  \n",
    "\n",
    "`Up` : 选中上方单元  \n",
    "`K` :  选中上方单元  \n",
    "`Down` : 选中下方单元  \n",
    "`J` :  选中下方单元  \n",
    "`Shift-K` : 扩大选中上方单元  \n",
    "`Shift-J` : 扩大选中下方单元   \n",
    "\n",
    "`A` : 在上方插入新单元  \n",
    "`B` : 在下方插入新单元     \n",
    "\n",
    "`X` : 剪切选中的单元  \n",
    "`C` : 复制选中的单元  \n",
    "`Shift-V` : 粘贴到上方单元  \n",
    "`V` : 粘贴到下方单元  \n",
    "`Z` : 恢复删除的最后一个单元  \n",
    "`D,D` : 删除选中的单元  \n",
    "`Shift-M` : 合并选中的单元  "
   ]
  },
  {
   "cell_type": "markdown",
   "metadata": {},
   "source": [
    "**编辑模式 ( `Enter` 键启动)**\n",
    " \n",
    "`Esc`: 进入命令模式  \n",
    "`Ctrl-M` : 进入命令模式   \n",
    "\n",
    "`Shift-Enter` : 运行本单元，选中下一单元   \n",
    "`Ctrl-Enter` : 运行本单元  \n",
    "`Al`t-Enter`: 运行本单元，在下面插入一单元  \n",
    "`Ct`rl-Shift-Subtract` : 分割单元   \n",
    "   ` \n",
    "`Tab` : 代码补全或`缩进  \n",
    "`Shift-Tab` : 提示`\n",
    "\n",
    "`Ctrl-]` : 缩`进  \n",
    "`Ctrl-`[` : 解`除缩进  \n",
    "`Ctrl-A` :` 全`选  \n",
    "`Ctrl-Z`` : 复原  \n",
    "`Ctrl-Shift-Z` : 再做  \n",
    "`Ctrl-Y` : 再做  \n",
    "      \n",
    "`Ctrl-Home` : 跳到单元开头  \n",
    "`Ctrl-Up` : 跳到单元开头  \n",
    "`Ctrl-End` : 跳到单元末尾  \n",
    "`Ctrl-Down` : 跳到单元末尾  \n",
    "`Ctrl-Left` : 跳到左边一个字首  \n",
    "`Ctrl-Right` : 跳到右边一个字首  \n",
    "`Ctrl-Backspace` : 删除前面一个字  \n",
    "`Ctrl-Delete` : 删除后面一个字       \n",
    "\n",
    "`Ctrl-S` : 文件存盘  \n",
    "`Shift` : 忽略  \n",
    "`Up` : 光标上移或转入上一单元  \n",
    "`Down` :光标下移或转入下一单元  "
   ]
  },
  {
   "cell_type": "code",
   "execution_count": null,
   "metadata": {},
   "outputs": [],
   "source": []
  }
 ],
 "metadata": {
  "kernelspec": {
   "display_name": "Python 3",
   "language": "python",
   "name": "python3"
  },
  "language_info": {
   "codemirror_mode": {
    "name": "ipython",
    "version": 3
   },
   "file_extension": ".py",
   "mimetype": "text/x-python",
   "name": "python",
   "nbconvert_exporter": "python",
   "pygments_lexer": "ipython3",
   "version": "3.7.4"
  }
 },
 "nbformat": 4,
 "nbformat_minor": 4
}
